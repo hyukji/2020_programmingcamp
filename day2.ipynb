{
 "cells": [
  {
   "cell_type": "code",
   "execution_count": 1,
   "metadata": {
    "collapsed": true
   },
   "outputs": [],
   "source": [
    "#자료구조 -> 데이터 관리 효율적이며 검색속도를 향상시킬 수 있다.\n",
    "# 1. list : [0,0]\n",
    "# 2. tuple : (0,0) 변경 불가.\n",
    "# 3. dictionary : {key: val, key: val} java의 json과 유사\n",
    "# 4. set : {0,#,$} 중복x,순서x\n"
   ]
  },
  {
   "cell_type": "code",
   "execution_count": 19,
   "metadata": {
    "scrolled": true
   },
   "outputs": [
    {
     "name": "stdout",
     "output_type": "stream",
     "text": [
      "[1, 2, 3, 4, 5, 6]\n",
      "[1, 2, 3, 1, 2, 3, 1, 2, 3]\n",
      "[1, 2, 3, 7]\n",
      "[1, 0, 2, 3, 7]\n",
      "[1, 0, 2, 3, 7, 8, 9, 10]\n",
      "[1, 2, 3, 7, 8, 9]\n",
      "[1, 2, 3]\n",
      "[1, 3]\n",
      "[]\n",
      "4\n",
      "5\n",
      "6\n"
     ]
    }
   ],
   "source": [
    "#list\n",
    "\n",
    "list_a = [1,2,3]\n",
    "list_b = [4,5,6]\n",
    "list_c = list_a+list_b\n",
    "print(list_c)\n",
    "print(list_a * 3)\n",
    "\n",
    "list_a.append(7) #리스트에 요소를 추가\n",
    "print(list_a)\n",
    "\n",
    "list_a.insert(1,0) #리스트 중간에 요소를 추가 (위치, 요소)\n",
    "print(list_a)\n",
    "\n",
    "list_a.extend([8,9,10]) #리스트 추가, extend는 파괴적, +는 비파괴적\n",
    "print(list_a)\n",
    "\n",
    "del list_a[7] #7번째 요소 지우기\n",
    "list_a.pop(1) #1번째 요소 지우기\n",
    "print(list_a)\n",
    "\n",
    "del list_a[3:6] #구간으로 지우기\n",
    "print(list_a)\n",
    "\n",
    "list_a.remove(2) #특정값 지정해서 지우기\n",
    "print(list_a)\n",
    "\n",
    "list_a.clear()\n",
    "print(list_a)\n",
    "\n",
    "4 in list_b    #내부 존재 확인 T/F\n",
    "\n",
    "for ele in list_b:  #list for문으로 돌릴 수 있음.\n",
    "    print(ele)"
   ]
  },
  {
   "cell_type": "code",
   "execution_count": 3,
   "metadata": {},
   "outputs": [
    {
     "name": "stdout",
     "output_type": "stream",
     "text": [
      "[6, 5, 1]\n",
      "Enter your number ex)123 : 123\n",
      "0 STRIKE, 1 BALL\n",
      "Enter your number ex)123 : 651\n",
      "3 STRIKE, 0 BALL\n"
     ]
    }
   ],
   "source": [
    "#난수로 숫자 3개 \n",
    "#입력으로 숫자 3개 입력받기\n",
    "#입력받은 숫자가 위치와 값이 같다면 STRIKE\n",
    "#숫자만 맞으면 BALL을 출력.\n",
    "\n",
    "import random\n",
    "ans = random.sample(range(1,10),3)\n",
    "print(ans)\n",
    "res = {\"STRIKE\":0,\"BALL\":0}\n",
    "while res[\"STRIKE\"] !=3:\n",
    "    res[\"STRIKE\"] =0\n",
    "    res[\"BALL\"] =0\n",
    "    input_data = input(\"Enter your number ex)123 : \")\n",
    "    for i in range(0,3):\n",
    "        a = int(input_data[i])\n",
    "        if a not in ans:\n",
    "            pass\n",
    "        elif a == ans[i]:\n",
    "            res[\"STRIKE\"] +=1\n",
    "        else:\n",
    "            res[\"BALL\"] +=1\n",
    "    print(res[\"STRIKE\"],\"STRIKE,\",res[\"BALL\"],\"BALL\")"
   ]
  },
  {
   "cell_type": "code",
   "execution_count": 10,
   "metadata": {},
   "outputs": [
    {
     "name": "stdout",
     "output_type": "stream",
     "text": [
      "10\n",
      "3\n",
      "{'key1': 30, 'key2': [1, 2, 3, 4, 5], 'key3': 130}\n",
      "{'key1': 30, 'key3': 130}\n"
     ]
    }
   ],
   "source": [
    "#dictionary\n",
    "\n",
    "dict_a = {      #기본적인 dict선언\n",
    "    \"key1\" : 10,\n",
    "    \"key2\" : [1,2,3,4,5]}\n",
    "\n",
    "print(dict_a[\"key1\"])      #value값 가져오기\n",
    "print(dict_a[\"key2\"][2])\n",
    "\n",
    "dict_a[\"key1\"] = 30        #value 값 변경\n",
    "dict_a[\"key3\"] = 130       #새로운 값 추가.\n",
    "print(dict_a)\n",
    "\n",
    "del dict_a[\"key2\"]         #key, value 지우기\n",
    "print(dict_a)\n",
    "\n"
   ]
  }
 ],
 "metadata": {
  "kernelspec": {
   "display_name": "Python 3",
   "language": "python",
   "name": "python3"
  },
  "language_info": {
   "codemirror_mode": {
    "name": "ipython",
    "version": 3
   },
   "file_extension": ".py",
   "mimetype": "text/x-python",
   "name": "python",
   "nbconvert_exporter": "python",
   "pygments_lexer": "ipython3",
   "version": "3.6.2"
  }
 },
 "nbformat": 4,
 "nbformat_minor": 2
}
